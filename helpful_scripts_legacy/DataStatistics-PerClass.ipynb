{
 "cells": [
  {
   "cell_type": "markdown",
   "id": "c9586935",
   "metadata": {},
   "source": [
    "# Script that plots and extract statistics for the diagnoses tags"
   ]
  },
  {
   "cell_type": "markdown",
   "id": "0535045d",
   "metadata": {},
   "source": [
    "### Import libs"
   ]
  },
  {
   "cell_type": "code",
   "execution_count": 1,
   "id": "6b851a7b",
   "metadata": {},
   "outputs": [],
   "source": [
    "import pandas as pd\n",
    "import json\n",
    "import os\n",
    "from collections import Counter\n",
    "from collections import OrderedDict\n",
    "import matplotlib.pyplot as plt"
   ]
  },
  {
   "cell_type": "markdown",
   "id": "64ec8037",
   "metadata": {},
   "source": [
    "### Utils functions"
   ]
  },
  {
   "cell_type": "code",
   "execution_count": 2,
   "id": "b5744c7f",
   "metadata": {},
   "outputs": [],
   "source": [
    "def build_dictionary_from_list(input_list:list)->dict:\n",
    "    '''\n",
    "    Function that build dict from list based on the uniqe elements in the list\n",
    "    and their number of occurances. key: list element, value: number of occurances in list\n",
    "    \n",
    "    Args:\n",
    "        * input_list, list, list for which we want to build dictionary\n",
    "    \n",
    "    Output:\n",
    "        * dict, dict, dictionary representing key-->values for the input list \n",
    "    '''\n",
    "    # Storage dict\n",
    "    _output_dict = {}\n",
    "    \n",
    "    # Get counts\n",
    "    for _key, _value in zip(Counter(input_list).keys(), Counter(input_list).values()):\n",
    "        _output_dict[_key] = _value\n",
    "        \n",
    "    # Return\n",
    "    return _output_dict\n",
    "\n",
    "def plot_dictionary(input_dict:dict, save:bool = False):\n",
    "    '''\n",
    "    Function that plots dictionary: x-tics names, y-tics values\n",
    "    \n",
    "    Args:\n",
    "        * input_dict, dict, dict to be ploted\n",
    "        * save, bool, saving fig as \"fig.png\"\n",
    "    '''\n",
    "    _names = list(input_dict.keys())\n",
    "    _values = list(input_dict.values())\n",
    "    \n",
    "    plt.title(f\"Total number of different diagnoses: {len(input_dict)}\")\n",
    "    plt.bar(range(len(input_dict)), _values, tick_label=_names)\n",
    "    plt.xticks(rotation = 90)\n",
    "    if save:\n",
    "        plt.savefig(\"fig.png\")\n",
    "    else:\n",
    "        plt.show()\n",
    "\n",
    "remove_spaces = lambda x: \"\".join(x.split()) \n",
    "'''\n",
    "Lambda function for space removal\n",
    "\n",
    "Args:\n",
    "    * x, string, string for which we want to remove space\n",
    "Output:\n",
    "    * x, string, string with space removed\n",
    "'''\n",
    "\n",
    "def obtain_data(ann_json_dir:str)->list:\n",
    "    '''\n",
    "    Function that returns lists containing different fracture names, sides and projections \n",
    "    for given directory\n",
    "    \n",
    "    Args:\n",
    "        * ann_json_dir,string, path to directory containing annotations\n",
    "        \n",
    "    Output:\n",
    "        * three list where first one contains diagnoses, second one sides, and third one\n",
    "        projections.\n",
    "    '''\n",
    "    # Read files\n",
    "    _ann_files = os.listdir(ann_json_dir)\n",
    "\n",
    "    # Find all different diagnoses  and their amoun\n",
    "    _diagnoses_list = []\n",
    "    _side_list = []\n",
    "    _projection_list = []\n",
    "    _missing_fract_type = 0\n",
    "\n",
    "    for _file in _ann_files:\n",
    "        # Grab data from file\n",
    "        _f = open(_ann_json_dir+\"/\"+_file)\n",
    "        _data = json.load(_f)\n",
    "\n",
    "        # Grab tags and objects\n",
    "        _tags = _data['tags']\n",
    "        _objects = _data['objects']\n",
    "\n",
    "        # Find classification\n",
    "\n",
    "        # Check if tag type is dictionary --> consis diagnosis\n",
    "        _tag = _tags[0]\n",
    "        if type(_tag) is not dict:\n",
    "            # Not dictionary == no fracture\n",
    "            _missing_fract_type += 1\n",
    "        else:       \n",
    "            if len(_tag['value'].split(\",\")) > 1:\n",
    "                _diagnoses_list += _tag['value'].split(\",\")\n",
    "            else:\n",
    "                _diagnoses_list += _tag['value'].split(\";\")\n",
    "\n",
    "        # Get side\n",
    "        _tag = _tags[-1]\n",
    "        _tag = _tag.split(\"_\")[-1]\n",
    "        _side_list.append(_tag)\n",
    "\n",
    "        # Get projection\n",
    "        _tag = _tags[-2]\n",
    "        _tag = _tag.split(\"_\")[-1]\n",
    "        if _tag in [\"oblique\", \"ap\", \"lat\"]:\n",
    "            _projection_list.append(_tag)\n",
    "\n",
    "    # Remove spaces\n",
    "    _diagnoses_list = list(map(remove_spaces, _diagnoses_list))\n",
    "\n",
    "    return _diagnoses_list, _side_list, _projection_list\n",
    "\n",
    "\n",
    "# Noise in fractures - smoething that we can not utilize\n",
    "global_noise_fractures = ['8620bbff3ebaae183964c', '2f99822f0c6ae7ebf', '69a677a94dadce5d3c416b39210b82', \n",
    "         \"23u-E/7<\", '72B(c)', '72B(b)', '72B.(b)', '77.1.1A', '77.2.1A', '77.3.1C', \n",
    "         '77.4.1A', '77.5.1A', '76.2.A',  '23-M2.1', '23-M3.1', '23r-M3.1','23r-/M/2.1', '23u-M2.1',\n",
    "         '23u-E7', '23u/E/7', '23r-M2.1']"
   ]
  },
  {
   "cell_type": "markdown",
   "id": "4a36dd5f",
   "metadata": {},
   "source": [
    "### Root to directories"
   ]
  },
  {
   "cell_type": "code",
   "execution_count": 3,
   "id": "6584616d",
   "metadata": {},
   "outputs": [],
   "source": [
    "# Annotation directory\n",
    "_ann_json_dir = \"/home/franko/Desktop/Frlan/Novo/Data/supervisely/wrist/ann\"\n",
    "# Image directiory \n",
    "_img_dir = \"/home/franko/Desktop/Frlan/Novo/Data/supervisely/wrist/img\""
   ]
  },
  {
   "cell_type": "markdown",
   "id": "5abf6578",
   "metadata": {},
   "source": [
    "### Read data and extract information"
   ]
  },
  {
   "cell_type": "code",
   "execution_count": 4,
   "id": "18ec1815",
   "metadata": {},
   "outputs": [
    {
     "name": "stdout",
     "output_type": "stream",
     "text": [
      "OrderedDict([('23r-M/3.1', 5172), ('23r-M/2.1', 3627), ('23u-E/7', 3212), ('23u-M/2.1', 2330), ('23-M/3.1', 1667), ('23r-E/2.1', 1433), ('23-M/2.1', 1410), ('22r-D/2.1', 162), ('23r-E/1', 106), ('22-D/2.1', 88), ('22r-D/4.1', 81), ('23u-M/3.1', 78), ('23u-E/2.1', 78), ('23u-E/1', 66), ('22u-D/2.1', 62), ('72B(b)', 52), ('72B(c)', 38), ('22-D/4.1', 31), ('23-E/2.1', 30), ('22u-D/1.1', 26), ('22u-D/4.1', 24), ('23r-E/7', 24), ('23u-E/3', 22), ('23r-E/3', 18), ('22r-D/5.1', 14), ('23u-E/1.1', 10), ('22r-D/1.1', 10), ('72B.(b)', 10), ('22-D/1.1', 10), ('23r-E/4.1', 9), ('23u-E7', 8), ('23r-E/4.2', 8), ('23r-E/2.2', 6), ('22r-D/1', 6), ('23u-E/4', 5), ('23u-M/2.', 5), ('23r-D/2.1', 4), ('22r-D/3.1', 4), ('77.5.1A', 4), ('23r-M3.1', 4), ('23r-M2.1', 4), ('23u/E/7', 4), ('23u-M2.1', 3), ('77.1.1A', 3), ('23r-E/3.1', 2), ('23r-/M/2.1', 2), ('23-E/7', 2), ('77.2.1A', 2), ('77.3.1C', 2), ('77.4.1A', 2), ('22r-M/2.1', 2), ('22-D/5.1', 2), ('23r-D/3.1', 2), ('23-M2.1', 2), ('23-E/1', 2), ('23u-D/2.1', 2), ('23-M3.1', 2), ('76.2.A', 2), ('23r-M/2.1[1', 2), ('7]', 2)])\n"
     ]
    }
   ],
   "source": [
    "# COUNT EVERYTHING!!!! :)\n",
    "# Function that extract data\n",
    "_diagnoses_list, _, _ = obtain_data(_ann_json_dir)\n",
    "\n",
    "# Obtain dictionary\n",
    "_diagnoses_dict = build_dictionary_from_list(_diagnoses_list)\n",
    "_diagnoses_dict = OrderedDict(sorted(_diagnoses_dict.items(), key=lambda x: x[1], reverse=True))\n",
    "print(_diagnoses_dict)"
   ]
  },
  {
   "cell_type": "code",
   "execution_count": 5,
   "id": "c0e05b72",
   "metadata": {},
   "outputs": [
    {
     "data": {
      "image/png": "[encoded data removed]",
      "text/plain": [
       "<Figure size 432x288 with 1 Axes>"
      ]
     },
     "metadata": {
      "needs_background": "light"
     },
     "output_type": "display_data"
    }
   ],
   "source": [
    "plot_dictionary(_diagnoses_dict, save = True)\n",
    "_diagnoses_df = pd.DataFrame(_diagnoses_dict.items(), columns=['Diagnosis', 'Frequency'])\n",
    "_diagnoses_df.to_excel(\"Data.xlsx\")"
   ]
  }
 ],
 "metadata": {
  "kernelspec": {
   "display_name": "Python 3 (ipykernel)",
   "language": "python",
   "name": "python3"
  },
  "language_info": {
   "codemirror_mode": {
    "name": "ipython",
    "version": 3
   },
   "file_extension": ".py",
   "mimetype": "text/x-python",
   "name": "python",
   "nbconvert_exporter": "python",
   "pygments_lexer": "ipython3",
   "version": "3.7.16"
  }
 },
 "nbformat": 4,
 "nbformat_minor": 5
}
